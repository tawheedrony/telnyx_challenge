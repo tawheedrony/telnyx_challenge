{
 "cells": [
  {
   "attachments": {},
   "cell_type": "markdown",
   "metadata": {},
   "source": [
    "### Libraries"
   ]
  },
  {
   "cell_type": "code",
   "execution_count": 2,
   "metadata": {},
   "outputs": [],
   "source": [
    "import pandas as pd \n",
    "import numpy as np \n",
    "import matplotlib.pyplot as plt\n",
    "import seaborn as sns \n",
    "import os \n",
    "import scipy \n",
    "\n",
    "import warnings\n",
    "warnings.filterwarnings(\"ignore\")\n",
    "\n",
    "%matplotlib inline"
   ]
  },
  {
   "attachments": {},
   "cell_type": "markdown",
   "metadata": {},
   "source": [
    "### Import Data"
   ]
  },
  {
   "cell_type": "code",
   "execution_count": 297,
   "metadata": {},
   "outputs": [
    {
     "data": {
      "text/html": [
       "<div>\n",
       "<style scoped>\n",
       "    .dataframe tbody tr th:only-of-type {\n",
       "        vertical-align: middle;\n",
       "    }\n",
       "\n",
       "    .dataframe tbody tr th {\n",
       "        vertical-align: top;\n",
       "    }\n",
       "\n",
       "    .dataframe thead th {\n",
       "        text-align: right;\n",
       "    }\n",
       "</style>\n",
       "<table border=\"1\" class=\"dataframe\">\n",
       "  <thead>\n",
       "    <tr style=\"text-align: right;\">\n",
       "      <th></th>\n",
       "      <th>caller</th>\n",
       "      <th>callee</th>\n",
       "      <th>callee_LRN</th>\n",
       "      <th>timestamp</th>\n",
       "      <th>billedduration</th>\n",
       "      <th>billed_rate</th>\n",
       "      <th>billed_cost</th>\n",
       "    </tr>\n",
       "  </thead>\n",
       "  <tbody>\n",
       "    <tr>\n",
       "      <th>0</th>\n",
       "      <td>9785108014</td>\n",
       "      <td>9543063291</td>\n",
       "      <td>1954990</td>\n",
       "      <td>2017-09-11 14:30:02</td>\n",
       "      <td>6</td>\n",
       "      <td>0.00266</td>\n",
       "      <td>0.0003</td>\n",
       "    </tr>\n",
       "  </tbody>\n",
       "</table>\n",
       "</div>"
      ],
      "text/plain": [
       "       caller      callee callee_LRN           timestamp  billedduration  \\\n",
       "0  9785108014  9543063291    1954990 2017-09-11 14:30:02               6   \n",
       "\n",
       "   billed_rate  billed_cost  \n",
       "0      0.00266       0.0003  "
      ]
     },
     "execution_count": 297,
     "metadata": {},
     "output_type": "execute_result"
    }
   ],
   "source": [
    "data_dir = \"/Users/taw/dev/upwork/telnyx/data/\"\n",
    "\n",
    "# importing telnyx data \n",
    "\n",
    "tlnx_cols = [\n",
    "       'caller', 'callee', 'callee_LRN', 'timestamp', 'billedduration',\n",
    "       'billed_rate', 'billed_cost']\n",
    "df_tlnx = pd.read_csv(os.path.join(data_dir,'telnyx.csv'), names = tlnx_cols)\n",
    "df_tlnx.timestamp = pd.to_datetime(df_tlnx.timestamp)                                                           # convert timestamp object datatype to timestamp\n",
    "df_tlnx.callee = df_tlnx.callee.astype(str).str.slice(-10)\n",
    "df_tlnx.caller = df_tlnx.caller.astype(str).str.slice(-10)\n",
    "df_tlnx.callee_LRN = df_tlnx.callee_LRN.astype(str)\n",
    "df_tlnx.head(1)"
   ]
  },
  {
   "cell_type": "code",
   "execution_count": 298,
   "metadata": {},
   "outputs": [
    {
     "data": {
      "text/html": [
       "<div>\n",
       "<style scoped>\n",
       "    .dataframe tbody tr th:only-of-type {\n",
       "        vertical-align: middle;\n",
       "    }\n",
       "\n",
       "    .dataframe tbody tr th {\n",
       "        vertical-align: top;\n",
       "    }\n",
       "\n",
       "    .dataframe thead th {\n",
       "        text-align: right;\n",
       "    }\n",
       "</style>\n",
       "<table border=\"1\" class=\"dataframe\">\n",
       "  <thead>\n",
       "    <tr style=\"text-align: right;\">\n",
       "      <th></th>\n",
       "      <th>caller</th>\n",
       "      <th>callee</th>\n",
       "      <th>timestamp</th>\n",
       "      <th>callee_LRN</th>\n",
       "      <th>billedduration</th>\n",
       "      <th>billed_rate</th>\n",
       "      <th>billed_cost</th>\n",
       "    </tr>\n",
       "  </thead>\n",
       "  <tbody>\n",
       "    <tr>\n",
       "      <th>0</th>\n",
       "      <td>3027158701</td>\n",
       "      <td>2012000010</td>\n",
       "      <td>2017-09-15 16:54:40</td>\n",
       "      <td>1.201821e+10</td>\n",
       "      <td>18</td>\n",
       "      <td>0.00415</td>\n",
       "      <td>0.0013</td>\n",
       "    </tr>\n",
       "  </tbody>\n",
       "</table>\n",
       "</div>"
      ],
      "text/plain": [
       "       caller      callee           timestamp    callee_LRN  billedduration  \\\n",
       "0  3027158701  2012000010 2017-09-15 16:54:40  1.201821e+10              18   \n",
       "\n",
       "   billed_rate  billed_cost  \n",
       "0      0.00415       0.0013  "
      ]
     },
     "execution_count": 298,
     "metadata": {},
     "output_type": "execute_result"
    }
   ],
   "source": [
    "# importing vendor data \n",
    "\n",
    "vendor_cols = [\n",
    "       'caller', 'callee', 'timestamp', 'callee_LRN', 'billedduration',\n",
    "       'billed_rate', 'billed_cost']\n",
    "\n",
    "df_vendor = pd.read_csv(os.path.join(data_dir,'vendor.csv'), names = vendor_cols)\n",
    "df_vendor.timestamp = pd.to_datetime(df_vendor.timestamp)                                                        # convert timestamp object datatype to timestamp\n",
    "df_vendor.callee = df_vendor.callee.astype(str).str.slice(-10)\n",
    "df_vendor.caller = df_vendor.caller.astype(str).str.slice(-10)\n",
    "\n",
    "df_vendor.head(1)"
   ]
  },
  {
   "cell_type": "code",
   "execution_count": 299,
   "metadata": {},
   "outputs": [
    {
     "data": {
      "text/html": [
       "<div>\n",
       "<style scoped>\n",
       "    .dataframe tbody tr th:only-of-type {\n",
       "        vertical-align: middle;\n",
       "    }\n",
       "\n",
       "    .dataframe tbody tr th {\n",
       "        vertical-align: top;\n",
       "    }\n",
       "\n",
       "    .dataframe thead th {\n",
       "        text-align: right;\n",
       "    }\n",
       "</style>\n",
       "<table border=\"1\" class=\"dataframe\">\n",
       "  <thead>\n",
       "    <tr style=\"text-align: right;\">\n",
       "      <th></th>\n",
       "      <th>caller</th>\n",
       "      <th>callee</th>\n",
       "      <th>timestamp</th>\n",
       "      <th>callee_LRN</th>\n",
       "      <th>billedduration</th>\n",
       "      <th>billed_rate</th>\n",
       "      <th>billed_cost</th>\n",
       "      <th>callee_arc</th>\n",
       "      <th>caller_arc</th>\n",
       "    </tr>\n",
       "  </thead>\n",
       "  <tbody>\n",
       "    <tr>\n",
       "      <th>0</th>\n",
       "      <td>3027158701</td>\n",
       "      <td>2012000010</td>\n",
       "      <td>2017-09-15 16:54:40</td>\n",
       "      <td>2018209999</td>\n",
       "      <td>18</td>\n",
       "      <td>0.00415</td>\n",
       "      <td>0.0013</td>\n",
       "      <td>201820</td>\n",
       "      <td>302715</td>\n",
       "    </tr>\n",
       "  </tbody>\n",
       "</table>\n",
       "</div>"
      ],
      "text/plain": [
       "       caller      callee           timestamp  callee_LRN  billedduration  \\\n",
       "0  3027158701  2012000010 2017-09-15 16:54:40  2018209999              18   \n",
       "\n",
       "   billed_rate  billed_cost callee_arc caller_arc  \n",
       "0      0.00415       0.0013     201820     302715  "
      ]
     },
     "execution_count": 299,
     "metadata": {},
     "output_type": "execute_result"
    }
   ],
   "source": [
    "# Seperating LRN into actual LRN used for billing and area code\n",
    "# min calle LRN = 2 ; max calle LRM = 10 --> issue this discrepancy\n",
    "\n",
    "df_vendor.callee_LRN = df_vendor.callee_LRN.astype(str).str[1:11]\n",
    "df_vendor['callee_arc'] = df_vendor.callee_LRN.str[0:6]\n",
    "df_vendor['caller_arc'] = df_vendor.caller.str[0:6]\n",
    "df_vendor.head(1)"
   ]
  },
  {
   "cell_type": "code",
   "execution_count": 300,
   "metadata": {},
   "outputs": [
    {
     "data": {
      "text/html": [
       "<div>\n",
       "<style scoped>\n",
       "    .dataframe tbody tr th:only-of-type {\n",
       "        vertical-align: middle;\n",
       "    }\n",
       "\n",
       "    .dataframe tbody tr th {\n",
       "        vertical-align: top;\n",
       "    }\n",
       "\n",
       "    .dataframe thead th {\n",
       "        text-align: right;\n",
       "    }\n",
       "</style>\n",
       "<table border=\"1\" class=\"dataframe\">\n",
       "  <thead>\n",
       "    <tr style=\"text-align: right;\">\n",
       "      <th></th>\n",
       "      <th>area_code</th>\n",
       "      <th>area</th>\n",
       "    </tr>\n",
       "  </thead>\n",
       "  <tbody>\n",
       "    <tr>\n",
       "      <th>0</th>\n",
       "      <td>201007</td>\n",
       "      <td>NJ</td>\n",
       "    </tr>\n",
       "  </tbody>\n",
       "</table>\n",
       "</div>"
      ],
      "text/plain": [
       "  area_code area\n",
       "0    201007   NJ"
      ]
     },
     "execution_count": 300,
     "metadata": {},
     "output_type": "execute_result"
    }
   ],
   "source": [
    "code_cols = ['area_code', 'area']\n",
    "df_arc = pd.read_csv(os.path.join(data_dir,'area_codes.csv'), names = code_cols)\n",
    "df_arc.area_code = df_arc.area_code.astype(str).str.slice(-6)\n",
    "df_arc.head(1)"
   ]
  },
  {
   "attachments": {},
   "cell_type": "markdown",
   "metadata": {},
   "source": [
    "### Exploratory Data Analysis"
   ]
  },
  {
   "cell_type": "code",
   "execution_count": 11,
   "metadata": {},
   "outputs": [
    {
     "name": "stdout",
     "output_type": "stream",
     "text": [
      "Number of Telnyx CDRs 9983181\n",
      "Number of Vendor CDRs 9998099\n"
     ]
    }
   ],
   "source": [
    "print(\"Number of Telnyx CDRs {}\".format(len(df_tlnx)))\n",
    "print(\"Number of Vendor CDRs {}\".format(len(df_vendor)))"
   ]
  },
  {
   "cell_type": "code",
   "execution_count": 301,
   "metadata": {},
   "outputs": [
    {
     "name": "stdout",
     "output_type": "stream",
     "text": [
      "Distinct Number of Callee LRNs in Telnyx CDRs 93131\n",
      "Distinct Number of Callee LRNs in Vendor CDRs 19905\n"
     ]
    }
   ],
   "source": [
    "print(\"Distinct Number of Callee LRNs in Telnyx CDRs {}\".format(df_tlnx['callee_LRN'].nunique()-1)) # removing NaN count\n",
    "print(\"Distinct Number of Callee LRNs in Vendor CDRs {}\".format(df_vendor['callee_LRN'].nunique()-1))"
   ]
  },
  {
   "attachments": {},
   "cell_type": "markdown",
   "metadata": {},
   "source": [
    "### Mispriced Call Table"
   ]
  },
  {
   "attachments": {},
   "cell_type": "markdown",
   "metadata": {},
   "source": [
    "#### Generate CRD IDS"
   ]
  },
  {
   "cell_type": "code",
   "execution_count": 13,
   "metadata": {},
   "outputs": [],
   "source": [
    "# Generate Unique CRD identifier for caller, callee and timestamp\n",
    "\n",
    "import hashlib\n",
    "\n",
    "def generate_id(caller_id, callee_id, timestamp):\n",
    "    # Concatenate the values into a string\n",
    "    values = str(caller_id) + str(callee_id) + str(timestamp)\n",
    "    \n",
    "    # Hash the string using SHA-256 algorithm\n",
    "    hash_obj = hashlib.sha256(values.encode('utf-8'))\n",
    "    hash_hex = hash_obj.hexdigest()\n",
    "    \n",
    "    # Return the first 16 characters of the hash as the unique identifier\n",
    "    return hash_hex[:16]"
   ]
  },
  {
   "cell_type": "code",
   "execution_count": 14,
   "metadata": {},
   "outputs": [],
   "source": [
    "# set all timestamps to the nearest tens place; might result in some duplicates. but by far the best\n",
    "\n",
    "df_tlnx['timestamp_'] = df_tlnx.timestamp.round('10S')\n",
    "df_vendor['timestamp_'] = df_vendor.timestamp.round('10S')"
   ]
  },
  {
   "cell_type": "code",
   "execution_count": 17,
   "metadata": {},
   "outputs": [
    {
     "name": "stdout",
     "output_type": "stream",
     "text": [
      "Maximum No of telnyx caller ids 10\n",
      "Minimum No of telnyx caller ids 10\n",
      "Maximum No of Vendor caller ids 10\n",
      "Minimum No of Vendor caller ids 10\n",
      "Maximum No of telnyx callee ids 10\n",
      "Minimum No of telnyx callee ids 10\n",
      "Maximum No of Vendor callee ids 10\n",
      "Minimum No of Vendor callee ids 10\n"
     ]
    }
   ],
   "source": [
    "# Check for id discrepancies \n",
    "\n",
    "print(\"Maximum No of telnyx caller ids {}\".format(max(df_tlnx.caller.astype(str).str.len())))\n",
    "print(\"Minimum No of telnyx caller ids {}\".format(min(df_tlnx.caller.astype(str).str.len())))\n",
    "print(\"Maximum No of Vendor caller ids {}\".format(max(df_vendor.caller.astype(str).str.len())))\n",
    "print(\"Minimum No of Vendor caller ids {}\".format(min(df_vendor.caller.astype(str).str.len())))\n",
    "\n",
    "\n",
    "print(\"Maximum No of telnyx callee ids {}\".format(max(df_tlnx.callee.astype(str).str.len())))\n",
    "print(\"Minimum No of telnyx callee ids {}\".format(min(df_tlnx.callee.astype(str).str.len())))\n",
    "print(\"Maximum No of Vendor callee ids {}\".format(max(df_vendor.callee.astype(str).str.len())))\n",
    "print(\"Minimum No of Vendor callee ids {}\".format(min(df_vendor.callee.astype(str).str.len())))"
   ]
  },
  {
   "attachments": {},
   "cell_type": "markdown",
   "metadata": {},
   "source": [
    "!! No ID discrepancies"
   ]
  },
  {
   "cell_type": "code",
   "execution_count": 18,
   "metadata": {},
   "outputs": [
    {
     "data": {
      "text/html": [
       "<div>\n",
       "<style scoped>\n",
       "    .dataframe tbody tr th:only-of-type {\n",
       "        vertical-align: middle;\n",
       "    }\n",
       "\n",
       "    .dataframe tbody tr th {\n",
       "        vertical-align: top;\n",
       "    }\n",
       "\n",
       "    .dataframe thead th {\n",
       "        text-align: right;\n",
       "    }\n",
       "</style>\n",
       "<table border=\"1\" class=\"dataframe\">\n",
       "  <thead>\n",
       "    <tr style=\"text-align: right;\">\n",
       "      <th></th>\n",
       "      <th>caller</th>\n",
       "      <th>callee</th>\n",
       "      <th>callee_LRN</th>\n",
       "      <th>timestamp</th>\n",
       "      <th>billedduration</th>\n",
       "      <th>billed_rate</th>\n",
       "      <th>billed_cost</th>\n",
       "      <th>timestamp_</th>\n",
       "      <th>id</th>\n",
       "    </tr>\n",
       "  </thead>\n",
       "  <tbody>\n",
       "    <tr>\n",
       "      <th>0</th>\n",
       "      <td>9785108014</td>\n",
       "      <td>9543063291</td>\n",
       "      <td>1954990</td>\n",
       "      <td>2017-09-11 14:30:02</td>\n",
       "      <td>6</td>\n",
       "      <td>0.00266</td>\n",
       "      <td>0.0003</td>\n",
       "      <td>2017-09-11 14:30:00</td>\n",
       "      <td>a97e140f6a66b694</td>\n",
       "    </tr>\n",
       "  </tbody>\n",
       "</table>\n",
       "</div>"
      ],
      "text/plain": [
       "       caller      callee callee_LRN           timestamp  billedduration  \\\n",
       "0  9785108014  9543063291    1954990 2017-09-11 14:30:02               6   \n",
       "\n",
       "   billed_rate  billed_cost          timestamp_                id  \n",
       "0      0.00266       0.0003 2017-09-11 14:30:00  a97e140f6a66b694  "
      ]
     },
     "execution_count": 18,
     "metadata": {},
     "output_type": "execute_result"
    }
   ],
   "source": [
    "# applying the hash id generator in each CRD database\n",
    "# this run might take 5+ minutes \n",
    "df_tlnx['id'] = df_tlnx.apply(lambda x: generate_id(x['caller'],x['callee'],x['timestamp_']), axis=1)\n",
    "df_vendor['id'] = df_vendor.apply(lambda x: generate_id(x['caller'],x['callee'],x['timestamp_']), axis=1)\n",
    "df_tlnx.head(1)"
   ]
  },
  {
   "attachments": {},
   "cell_type": "markdown",
   "metadata": {},
   "source": [
    "**Verification**"
   ]
  },
  {
   "cell_type": "code",
   "execution_count": 19,
   "metadata": {},
   "outputs": [
    {
     "name": "stdout",
     "output_type": "stream",
     "text": [
      "Duplicate Vendor CDR ID Percentage 0.0175\n",
      "Duplicate Tenlyx CDR ID Percentage 0.0068\n"
     ]
    }
   ],
   "source": [
    "vendor_dups = df_vendor[['id', 'caller']].groupby(by='id').count()['caller'].reset_index()\n",
    "print(\"Duplicate Vendor CDR ID Percentage {}\".format(round(len(vendor_dups[vendor_dups.caller > 1])/len(vendor_dups) * 100,4)))\n",
    "\n",
    "\n",
    "tlnx_dups = df_tlnx[['id', 'caller']].groupby(by='id').count()['caller'].reset_index()\n",
    "print(\"Duplicate Tenlyx CDR ID Percentage {}\".format(round(len(tlnx_dups[tlnx_dups.caller > 1])/len(tlnx_dups) * 100,4)))"
   ]
  },
  {
   "attachments": {},
   "cell_type": "markdown",
   "metadata": {},
   "source": [
    "!! Ignoring these duplicate ids as they are less significant in percentage. "
   ]
  },
  {
   "cell_type": "code",
   "execution_count": 20,
   "metadata": {},
   "outputs": [],
   "source": [
    "output_dir = \"/Users/taw/dev/upwork/telnyx/output/\"\n",
    "\n",
    "# removing truncated timestamp_ column \n",
    "df_tlnx = df_tlnx.drop(['timestamp_'], axis=1)\n",
    "df_vendor = df_vendor.drop(['timestamp_'], axis=1)\n",
    "\n",
    "# output the dataframe to a CSV file \n",
    "df_tlnx.to_csv(os.path.join(output_dir, 'telnyx_preprocessed.csv') , index=False)\n",
    "df_vendor.to_csv(os.path.join(output_dir, 'vendor_preprocessed.csv') , index=False)"
   ]
  },
  {
   "attachments": {},
   "cell_type": "markdown",
   "metadata": {},
   "source": [
    "### Importing Preprocessed Telnyx & Vendor Data"
   ]
  },
  {
   "cell_type": "code",
   "execution_count": 81,
   "metadata": {},
   "outputs": [],
   "source": [
    "\n",
    "\"\"\"\n",
    "df_tlnx = pd.read_csv(\"/Users/taw/dev/upwork/telnyx/output/telnyx_preprocessed.csv\")\n",
    "df_vendor = pd.read_csv(\"/Users/taw/dev/upwork/telnyx/output/vendor_preprocessed.csv\")\n",
    "\n",
    "# using dictionary to convert specific columns\n",
    "convert_dict = {'caller': str,\n",
    "                'callee': str,\n",
    "                'callee_LRN' : str\n",
    "                }\n",
    " \n",
    "df_vendor.timestamp = pd.to_datetime(df_vendor.timestamp)  \n",
    "df_vendor.caller_arc = df_vendor.caller_arc.astype(str)\n",
    "\n",
    "df_tlnx.timestamp = pd.to_datetime(df_tlnx.timestamp)  \n",
    "\n",
    "df_vendor = df_vendor.astype(convert_dict)\n",
    "df_tlnx = df_tlnx.astype(convert_dict)\n",
    "\n",
    "\"\"\"\n"
   ]
  },
  {
   "attachments": {},
   "cell_type": "markdown",
   "metadata": {},
   "source": [
    "We've successfully mapped caller, callee and timestamp into a unique ID using SHA-256 algorithm"
   ]
  },
  {
   "attachments": {},
   "cell_type": "markdown",
   "metadata": {},
   "source": [
    "#### Misplaced CRD Tables"
   ]
  },
  {
   "attachments": {},
   "cell_type": "markdown",
   "metadata": {},
   "source": [
    "**Bill Duration Discrepancies**"
   ]
  },
  {
   "cell_type": "code",
   "execution_count": 21,
   "metadata": {},
   "outputs": [
    {
     "name": "stdout",
     "output_type": "stream",
     "text": [
      "Total CRD Counts 9755045\n",
      "Total CRDs having Bill Duration Discrepancies 255723\n",
      "Percentage Errors 2.62%\n"
     ]
    }
   ],
   "source": [
    "t_bill = df_tlnx.merge(df_vendor, how='inner', on='id')[['id', 'billedduration_x', 'billedduration_y']]\n",
    "t_bill.columns = ['id', 'billduration_tlnx', 'billduration_vendor']\n",
    "error_bills = t_bill[t_bill.billduration_tlnx != t_bill.billduration_vendor].sort_values('billduration_tlnx', ascending=False)\n",
    "\n",
    "error_count =  error_bills.id.nunique()\n",
    "\n",
    "print(\"Total CRD Counts {}\".format(len(t_bill)))\n",
    "print(\"Total CRDs having Bill Duration Discrepancies {}\".format(error_count))\n",
    "print(\"Percentage Errors {}\".format(str(round(error_count/len(t_bill) * 100, 2)) + '%'))"
   ]
  },
  {
   "cell_type": "code",
   "execution_count": 22,
   "metadata": {},
   "outputs": [
    {
     "data": {
      "image/png": "[encoded data removed]",
      "text/plain": [
       "<Figure size 640x480 with 1 Axes>"
      ]
     },
     "metadata": {},
     "output_type": "display_data"
    }
   ],
   "source": [
    "error_bills['gap'] = error_bills.billduration_vendor - error_bills.billduration_tlnx\n",
    "gap_plot = pd.DataFrame(error_bills.groupby(by='gap').count()['id']).reset_index()\n",
    "\n",
    "\n",
    "# plot bar \n",
    "ax = sns.barplot(x = 'gap',y = 'id',data = gap_plot,errwidth=0, orient='v')\n",
    "\n",
    "ax.bar_label(ax.containers[0])\n",
    "ax.set_xlabel('discrepancy in (s)')\n",
    "ax.set_ylabel('CRD Count')\n",
    "plt.show()"
   ]
  },
  {
   "attachments": {},
   "cell_type": "markdown",
   "metadata": {},
   "source": [
    "Note : Most of the discrepancies associated with bill duration is with 6s difference. "
   ]
  },
  {
   "cell_type": "code",
   "execution_count": 36,
   "metadata": {},
   "outputs": [
    {
     "name": "stdout",
     "output_type": "stream",
     "text": [
      "% Null Callee Area Codes 35.32\n"
     ]
    },
    {
     "data": {
      "text/html": [
       "<div>\n",
       "<style scoped>\n",
       "    .dataframe tbody tr th:only-of-type {\n",
       "        vertical-align: middle;\n",
       "    }\n",
       "\n",
       "    .dataframe tbody tr th {\n",
       "        vertical-align: top;\n",
       "    }\n",
       "\n",
       "    .dataframe thead th {\n",
       "        text-align: right;\n",
       "    }\n",
       "</style>\n",
       "<table border=\"1\" class=\"dataframe\">\n",
       "  <thead>\n",
       "    <tr style=\"text-align: right;\">\n",
       "      <th></th>\n",
       "      <th>id</th>\n",
       "      <th>callee_arc</th>\n",
       "      <th>caller_arc</th>\n",
       "      <th>calle_area</th>\n",
       "      <th>caller_area</th>\n",
       "      <th>inter_state</th>\n",
       "    </tr>\n",
       "  </thead>\n",
       "  <tbody>\n",
       "    <tr>\n",
       "      <th>0</th>\n",
       "      <td>d4e1211ff912a9ea</td>\n",
       "      <td>201820</td>\n",
       "      <td>978510</td>\n",
       "      <td>NJ</td>\n",
       "      <td>MA</td>\n",
       "      <td>False</td>\n",
       "    </tr>\n",
       "  </tbody>\n",
       "</table>\n",
       "</div>"
      ],
      "text/plain": [
       "                 id callee_arc caller_arc calle_area caller_area  inter_state\n",
       "0  d4e1211ff912a9ea     201820     978510         NJ          MA        False"
      ]
     },
     "execution_count": 36,
     "metadata": {},
     "output_type": "execute_result"
    }
   ],
   "source": [
    "#  Duration Discrepancy CRD Records Area \n",
    "CRD_area = df_vendor.merge(error_bills, on='id', how='inner')[['id', 'callee_arc', 'caller_arc']]\n",
    "print(\"% Null Callee Area Codes {}\".format(round(len(CRD_area[CRD_area.callee_arc == 'an'])/len(CRD_area) * 100 , 2 ) )) \n",
    "\n",
    "CRD_area = CRD_area[CRD_area.callee_arc != 'an']\n",
    "CRD_area.dropna(axis=0, inplace=True)\n",
    "CRD_area['calle_area'] = CRD_area['callee_arc'].map(df_arc.set_index('area_code')['area'])\n",
    "CRD_area['caller_area'] = CRD_area['caller_arc'].map(df_arc.set_index('area_code')['area'])\n",
    "CRD_area['inter_state'] = CRD_area.calle_area == CRD_area.caller_area\n",
    "\n",
    "CRD_area.head(1)"
   ]
  },
  {
   "cell_type": "code",
   "execution_count": 55,
   "metadata": {},
   "outputs": [
    {
     "data": {
      "image/png": "[encoded data removed]",
      "text/plain": [
       "<Figure size 640x480 with 1 Axes>"
      ]
     },
     "metadata": {},
     "output_type": "display_data"
    }
   ],
   "source": [
    "plot_df = pd.DataFrame(CRD_area.inter_state.value_counts()).reset_index()\n",
    "plot_df.columns = ['inter_state_bool', 'count_ids']\n",
    "\n",
    "# plot bar \n",
    "ax = sns.barplot(x = 'inter_state_bool',y = 'count_ids',data = plot_df, errwidth=0, orient='v')\n",
    "\n",
    "ax.bar_label(ax.containers[0])\n",
    "ax.set_xlabel('Inter State or Not')\n",
    "ax.set_ylabel('CRD Count')\n",
    "plt.show()"
   ]
  },
  {
   "attachments": {},
   "cell_type": "markdown",
   "metadata": {},
   "source": [
    "!!! Max Billed Duration Discrepancies are from Intra State Calls"
   ]
  },
  {
   "attachments": {},
   "cell_type": "markdown",
   "metadata": {},
   "source": [
    "**Billed LRN Discrepancy Check**"
   ]
  },
  {
   "cell_type": "code",
   "execution_count": 86,
   "metadata": {},
   "outputs": [],
   "source": [
    "# replace all the LRNs into identical format\n",
    "\n",
    "df_tlnx.callee_LRN = df_tlnx.callee_LRN.str.slice(-6)\n",
    "df_vendor.callee_LRN = df_vendor.callee.str[:6]"
   ]
  },
  {
   "cell_type": "code",
   "execution_count": 99,
   "metadata": {},
   "outputs": [
    {
     "data": {
      "text/html": [
       "<div>\n",
       "<style scoped>\n",
       "    .dataframe tbody tr th:only-of-type {\n",
       "        vertical-align: middle;\n",
       "    }\n",
       "\n",
       "    .dataframe tbody tr th {\n",
       "        vertical-align: top;\n",
       "    }\n",
       "\n",
       "    .dataframe thead th {\n",
       "        text-align: right;\n",
       "    }\n",
       "</style>\n",
       "<table border=\"1\" class=\"dataframe\">\n",
       "  <thead>\n",
       "    <tr style=\"text-align: right;\">\n",
       "      <th></th>\n",
       "      <th>id</th>\n",
       "      <th>callee_LRN_x</th>\n",
       "      <th>callee_LRN_y</th>\n",
       "    </tr>\n",
       "  </thead>\n",
       "  <tbody>\n",
       "    <tr>\n",
       "      <th>3167508</th>\n",
       "      <td>86e57a839ef36329</td>\n",
       "      <td>302604</td>\n",
       "      <td>484562</td>\n",
       "    </tr>\n",
       "  </tbody>\n",
       "</table>\n",
       "</div>"
      ],
      "text/plain": [
       "                       id callee_LRN_x callee_LRN_y\n",
       "3167508  86e57a839ef36329       302604       484562"
      ]
     },
     "execution_count": 99,
     "metadata": {},
     "output_type": "execute_result"
    }
   ],
   "source": [
    "df_lrn = df_tlnx.merge(df_vendor, on='id', how='inner')[['id', 'callee_LRN_x', 'callee_LRN_y']]\n",
    "df_lrn.sample(1)"
   ]
  },
  {
   "cell_type": "code",
   "execution_count": 100,
   "metadata": {},
   "outputs": [
    {
     "data": {
      "text/html": [
       "<div>\n",
       "<style scoped>\n",
       "    .dataframe tbody tr th:only-of-type {\n",
       "        vertical-align: middle;\n",
       "    }\n",
       "\n",
       "    .dataframe tbody tr th {\n",
       "        vertical-align: top;\n",
       "    }\n",
       "\n",
       "    .dataframe thead th {\n",
       "        text-align: right;\n",
       "    }\n",
       "</style>\n",
       "<table border=\"1\" class=\"dataframe\">\n",
       "  <thead>\n",
       "    <tr style=\"text-align: right;\">\n",
       "      <th></th>\n",
       "      <th>id</th>\n",
       "      <th>tlnx_LRN</th>\n",
       "      <th>vendor_LRN</th>\n",
       "      <th>is_correct</th>\n",
       "    </tr>\n",
       "  </thead>\n",
       "  <tbody>\n",
       "    <tr>\n",
       "      <th>0</th>\n",
       "      <td>a97e140f6a66b694</td>\n",
       "      <td>954990</td>\n",
       "      <td>954306</td>\n",
       "      <td>False</td>\n",
       "    </tr>\n",
       "    <tr>\n",
       "      <th>1</th>\n",
       "      <td>7d540214e05994f5</td>\n",
       "      <td>954229</td>\n",
       "      <td>954229</td>\n",
       "      <td>True</td>\n",
       "    </tr>\n",
       "    <tr>\n",
       "      <th>2</th>\n",
       "      <td>d08b5871d17b89e7</td>\n",
       "      <td>954282</td>\n",
       "      <td>954282</td>\n",
       "      <td>True</td>\n",
       "    </tr>\n",
       "    <tr>\n",
       "      <th>3</th>\n",
       "      <td>d3849d92155d4eab</td>\n",
       "      <td>786930</td>\n",
       "      <td>954251</td>\n",
       "      <td>False</td>\n",
       "    </tr>\n",
       "    <tr>\n",
       "      <th>4</th>\n",
       "      <td>93e0d76f139b0b37</td>\n",
       "      <td>786930</td>\n",
       "      <td>954256</td>\n",
       "      <td>False</td>\n",
       "    </tr>\n",
       "  </tbody>\n",
       "</table>\n",
       "</div>"
      ],
      "text/plain": [
       "                 id tlnx_LRN vendor_LRN  is_correct\n",
       "0  a97e140f6a66b694   954990     954306       False\n",
       "1  7d540214e05994f5   954229     954229        True\n",
       "2  d08b5871d17b89e7   954282     954282        True\n",
       "3  d3849d92155d4eab   786930     954251       False\n",
       "4  93e0d76f139b0b37   786930     954256       False"
      ]
     },
     "execution_count": 100,
     "metadata": {},
     "output_type": "execute_result"
    }
   ],
   "source": [
    "df_lrn.columns = ['id', 'tlnx_LRN', 'vendor_LRN']\n",
    "df_lrn['is_correct'] = df_lrn.tlnx_LRN == df_lrn.vendor_LRN\n",
    "df_lrn = df_lrn.drop_duplicates()\n",
    "df_lrn.head()"
   ]
  },
  {
   "cell_type": "code",
   "execution_count": 120,
   "metadata": {},
   "outputs": [
    {
     "data": {
      "text/plain": [
       "False    5471515\n",
       "True     4280561\n",
       "Name: is_correct, dtype: int64"
      ]
     },
     "execution_count": 120,
     "metadata": {},
     "output_type": "execute_result"
    }
   ],
   "source": [
    "df_lrn.is_correct.value_counts()"
   ]
  },
  {
   "cell_type": "code",
   "execution_count": 133,
   "metadata": {},
   "outputs": [
    {
     "name": "stdout",
     "output_type": "stream",
     "text": [
      "Percentage of LRN Errors 56.11%\n"
     ]
    }
   ],
   "source": [
    "print(\"Percentage of LRN Errors {}\".format(str(round ( len(df_lrn[df_lrn['is_correct'] == False]) / len(df_lrn) * 100, 2 ) ) + '%')) "
   ]
  },
  {
   "attachments": {},
   "cell_type": "markdown",
   "metadata": {},
   "source": [
    "!! Approximately 56.11% LRNs in the Telnyx Table has error in callee LRN"
   ]
  },
  {
   "cell_type": "code",
   "execution_count": 110,
   "metadata": {},
   "outputs": [
    {
     "data": {
      "text/html": [
       "<div>\n",
       "<style scoped>\n",
       "    .dataframe tbody tr th:only-of-type {\n",
       "        vertical-align: middle;\n",
       "    }\n",
       "\n",
       "    .dataframe tbody tr th {\n",
       "        vertical-align: top;\n",
       "    }\n",
       "\n",
       "    .dataframe thead th {\n",
       "        text-align: right;\n",
       "    }\n",
       "</style>\n",
       "<table border=\"1\" class=\"dataframe\">\n",
       "  <thead>\n",
       "    <tr style=\"text-align: right;\">\n",
       "      <th></th>\n",
       "      <th>caller</th>\n",
       "      <th>callee</th>\n",
       "      <th>callee_LRN</th>\n",
       "      <th>timestamp</th>\n",
       "      <th>billedduration</th>\n",
       "      <th>billed_rate</th>\n",
       "      <th>billed_cost</th>\n",
       "      <th>id</th>\n",
       "    </tr>\n",
       "  </thead>\n",
       "  <tbody>\n",
       "    <tr>\n",
       "      <th>3</th>\n",
       "      <td>9785108014</td>\n",
       "      <td>9542510030</td>\n",
       "      <td>786930</td>\n",
       "      <td>2017-09-11 14:30:01</td>\n",
       "      <td>6</td>\n",
       "      <td>0.00354</td>\n",
       "      <td>0.0004</td>\n",
       "      <td>d3849d92155d4eab</td>\n",
       "    </tr>\n",
       "  </tbody>\n",
       "</table>\n",
       "</div>"
      ],
      "text/plain": [
       "       caller      callee callee_LRN           timestamp  billedduration  \\\n",
       "3  9785108014  9542510030     786930 2017-09-11 14:30:01               6   \n",
       "\n",
       "   billed_rate  billed_cost                id  \n",
       "3      0.00354       0.0004  d3849d92155d4eab  "
      ]
     },
     "execution_count": 110,
     "metadata": {},
     "output_type": "execute_result"
    }
   ],
   "source": [
    "df_tlnx[df_tlnx.id == 'd3849d92155d4eab']"
   ]
  },
  {
   "cell_type": "code",
   "execution_count": 111,
   "metadata": {},
   "outputs": [
    {
     "data": {
      "text/html": [
       "<div>\n",
       "<style scoped>\n",
       "    .dataframe tbody tr th:only-of-type {\n",
       "        vertical-align: middle;\n",
       "    }\n",
       "\n",
       "    .dataframe tbody tr th {\n",
       "        vertical-align: top;\n",
       "    }\n",
       "\n",
       "    .dataframe thead th {\n",
       "        text-align: right;\n",
       "    }\n",
       "</style>\n",
       "<table border=\"1\" class=\"dataframe\">\n",
       "  <thead>\n",
       "    <tr style=\"text-align: right;\">\n",
       "      <th></th>\n",
       "      <th>caller</th>\n",
       "      <th>callee</th>\n",
       "      <th>timestamp</th>\n",
       "      <th>callee_LRN</th>\n",
       "      <th>billedduration</th>\n",
       "      <th>billed_rate</th>\n",
       "      <th>billed_cost</th>\n",
       "      <th>callee_arc</th>\n",
       "      <th>caller_arc</th>\n",
       "      <th>id</th>\n",
       "    </tr>\n",
       "  </thead>\n",
       "  <tbody>\n",
       "    <tr>\n",
       "      <th>9642688</th>\n",
       "      <td>9785108014</td>\n",
       "      <td>9542510030</td>\n",
       "      <td>2017-09-11 14:30:01</td>\n",
       "      <td>954251</td>\n",
       "      <td>6</td>\n",
       "      <td>0.00354</td>\n",
       "      <td>0.0004</td>\n",
       "      <td>786930</td>\n",
       "      <td>978510</td>\n",
       "      <td>d3849d92155d4eab</td>\n",
       "    </tr>\n",
       "  </tbody>\n",
       "</table>\n",
       "</div>"
      ],
      "text/plain": [
       "             caller      callee           timestamp callee_LRN  \\\n",
       "9642688  9785108014  9542510030 2017-09-11 14:30:01     954251   \n",
       "\n",
       "         billedduration  billed_rate  billed_cost callee_arc caller_arc  \\\n",
       "9642688               6      0.00354       0.0004     786930     978510   \n",
       "\n",
       "                       id  \n",
       "9642688  d3849d92155d4eab  "
      ]
     },
     "execution_count": 111,
     "metadata": {},
     "output_type": "execute_result"
    }
   ],
   "source": [
    "df_vendor[df_vendor.id == 'd3849d92155d4eab']"
   ]
  },
  {
   "attachments": {},
   "cell_type": "markdown",
   "metadata": {},
   "source": [
    "!! See that in Telnyx table callee LRN parsing is wrong..."
   ]
  },
  {
   "attachments": {},
   "cell_type": "markdown",
   "metadata": {},
   "source": [
    "**Rounding Error in Billed Amount**"
   ]
  },
  {
   "cell_type": "code",
   "execution_count": 177,
   "metadata": {},
   "outputs": [],
   "source": [
    "def normal_round(num, ndigits=0):\n",
    "    \"\"\"\n",
    "    Rounds a float to the specified number of decimal places.\n",
    "    num: the value to round\n",
    "    ndigits: the number of digits to round to\n",
    "    \"\"\"\n",
    "    \n",
    "    if ndigits == 0:\n",
    "        return int(num + 0.5)\n",
    "    else:\n",
    "        digit_value = 10 ** ndigits\n",
    "        return int(num * digit_value + 0.5) / digit_value"
   ]
  },
  {
   "cell_type": "code",
   "execution_count": 195,
   "metadata": {},
   "outputs": [
    {
     "name": "stdout",
     "output_type": "stream",
     "text": [
      " Out of 9983181 CRDs 189288 has rounding errors in Telnyx CRDs \n",
      " Percentage rounding errors in Telnyx CRDs 1.9%\n"
     ]
    },
    {
     "data": {
      "text/html": [
       "<div>\n",
       "<style scoped>\n",
       "    .dataframe tbody tr th:only-of-type {\n",
       "        vertical-align: middle;\n",
       "    }\n",
       "\n",
       "    .dataframe tbody tr th {\n",
       "        vertical-align: top;\n",
       "    }\n",
       "\n",
       "    .dataframe thead th {\n",
       "        text-align: right;\n",
       "    }\n",
       "</style>\n",
       "<table border=\"1\" class=\"dataframe\">\n",
       "  <thead>\n",
       "    <tr style=\"text-align: right;\">\n",
       "      <th></th>\n",
       "      <th>caller</th>\n",
       "      <th>callee</th>\n",
       "      <th>callee_LRN</th>\n",
       "      <th>timestamp</th>\n",
       "      <th>billedduration</th>\n",
       "      <th>billed_rate</th>\n",
       "      <th>billed_cost</th>\n",
       "      <th>id</th>\n",
       "      <th>calc_billed_cost</th>\n",
       "      <th>tlnx_billed_cost</th>\n",
       "      <th>is_correct</th>\n",
       "    </tr>\n",
       "  </thead>\n",
       "  <tbody>\n",
       "    <tr>\n",
       "      <th>41</th>\n",
       "      <td>9785108014</td>\n",
       "      <td>9542833362</td>\n",
       "      <td>954283</td>\n",
       "      <td>2017-09-11 14:30:03</td>\n",
       "      <td>12</td>\n",
       "      <td>0.00225</td>\n",
       "      <td>0.0005</td>\n",
       "      <td>e5b74531b5f3ba69</td>\n",
       "      <td>0.0004</td>\n",
       "      <td>0.0005</td>\n",
       "      <td>False</td>\n",
       "    </tr>\n",
       "  </tbody>\n",
       "</table>\n",
       "</div>"
      ],
      "text/plain": [
       "        caller      callee callee_LRN           timestamp  billedduration  \\\n",
       "41  9785108014  9542833362     954283 2017-09-11 14:30:03              12   \n",
       "\n",
       "    billed_rate  billed_cost                id  calc_billed_cost  \\\n",
       "41      0.00225       0.0005  e5b74531b5f3ba69            0.0004   \n",
       "\n",
       "    tlnx_billed_cost  is_correct  \n",
       "41            0.0005       False  "
      ]
     },
     "execution_count": 195,
     "metadata": {},
     "output_type": "execute_result"
    }
   ],
   "source": [
    "df_tlnx_temp = df_tlnx.copy()\n",
    "\n",
    "df_tlnx_temp['calc_billed_cost'] = df_tlnx_temp.billedduration / 60 * df_tlnx_temp.billed_rate\n",
    "df_tlnx_temp['calc_billed_cost'] = df_tlnx_temp.apply(lambda x: normal_round(x.calc_billed_cost,4), axis=1)\n",
    "df_tlnx_temp['tlnx_billed_cost'] = df_tlnx_temp.apply(lambda x: normal_round(x.billed_cost,4), axis=1)\n",
    "df_tlnx_temp['is_correct'] = df_tlnx_temp['calc_billed_cost'] == df_tlnx_temp['tlnx_billed_cost']\n",
    "\n",
    "print (\" Out of {} CRDs {} has rounding errors in Telnyx CRDs \".format(len(df_tlnx_temp), df_tlnx_temp.is_correct.value_counts()[1]))\n",
    "print (\" Percentage rounding errors in Telnyx CRDs {}\".format(str(round(df_tlnx_temp.is_correct.value_counts()[1] / len(df_tlnx_temp)  * 100 , 2)) + '%'))\n",
    "\n",
    "\n",
    "round_err_df = df_tlnx_temp[df_tlnx_temp.is_correct != True]\n",
    "round_err_df.head(1)"
   ]
  },
  {
   "cell_type": "code",
   "execution_count": 241,
   "metadata": {},
   "outputs": [
    {
     "name": "stdout",
     "output_type": "stream",
     "text": [
      " Out of 9998099 CRDs 4954408 has rounding errors in Vendor CRDs \n",
      " Percentage rounding errors in Vendor CRDs 49.55%\n"
     ]
    }
   ],
   "source": [
    "df_vendor_temp = df_vendor.copy()\n",
    "\n",
    "df_vendor_temp['calc_billed_cost'] = df_vendor_temp.billedduration / 60 * df_vendor_temp.billed_rate\n",
    "df_vendor_temp['calc_billed_cost'] = df_vendor_temp.apply(lambda x: round(x.calc_billed_cost,4), axis=1)\n",
    "df_vendor_temp['tlnx_billed_cost'] = df_vendor_temp.apply(lambda x: round(x.billed_cost,4), axis=1)\n",
    "df_vendor_temp['is_correct'] = df_vendor_temp['calc_billed_cost'] == df_vendor_temp['tlnx_billed_cost']\n",
    "\n",
    "print (\" Out of {} CRDs {} has rounding errors in Vendor CRDs \".format(len(df_vendor_temp), df_vendor_temp.is_correct.value_counts()[1]))\n",
    "print (\" Percentage rounding errors in Vendor CRDs {}\".format(str(round(df_vendor_temp.is_correct.value_counts()[1] / len(df_vendor_temp)  * 100 , 2)) + '%'))\n"
   ]
  },
  {
   "cell_type": "code",
   "execution_count": 200,
   "metadata": {},
   "outputs": [
    {
     "name": "stdout",
     "output_type": "stream",
     "text": [
      "Total Bill Difference 18.93$\n"
     ]
    }
   ],
   "source": [
    "print(\"Total Bill Difference {}\".format(str(round(sum(abs(round_err_df.tlnx_billed_cost - round_err_df.calc_billed_cost)),2)) + \"$\"))  "
   ]
  },
  {
   "attachments": {},
   "cell_type": "markdown",
   "metadata": {},
   "source": [
    "**Wrong Rate Deck Error**"
   ]
  },
  {
   "cell_type": "code",
   "execution_count": null,
   "metadata": {},
   "outputs": [],
   "source": [
    "df_vendor['calle_area'] = df_vendor['callee_arc'].map(df_arc.set_index('area_code')['area'])\n",
    "df_vendor['caller_area'] = df_vendor['caller_arc'].map(df_arc.set_index('area_code')['area'])\n",
    "df_vendor['is_inter_state'] = df_vendor['calle_area'] != df_vendor['caller_area']"
   ]
  },
  {
   "cell_type": "code",
   "execution_count": 222,
   "metadata": {},
   "outputs": [
    {
     "data": {
      "text/html": [
       "<div>\n",
       "<style scoped>\n",
       "    .dataframe tbody tr th:only-of-type {\n",
       "        vertical-align: middle;\n",
       "    }\n",
       "\n",
       "    .dataframe tbody tr th {\n",
       "        vertical-align: top;\n",
       "    }\n",
       "\n",
       "    .dataframe thead th {\n",
       "        text-align: right;\n",
       "    }\n",
       "</style>\n",
       "<table border=\"1\" class=\"dataframe\">\n",
       "  <thead>\n",
       "    <tr style=\"text-align: right;\">\n",
       "      <th></th>\n",
       "      <th>id</th>\n",
       "      <th>billed_rate_tlnx</th>\n",
       "      <th>billed_rate_vendor</th>\n",
       "      <th>is_inter_state</th>\n",
       "    </tr>\n",
       "  </thead>\n",
       "  <tbody>\n",
       "    <tr>\n",
       "      <th>1576840</th>\n",
       "      <td>97a6b6dcefb0dfac</td>\n",
       "      <td>0.00375</td>\n",
       "      <td>0.00375</td>\n",
       "      <td>True</td>\n",
       "    </tr>\n",
       "  </tbody>\n",
       "</table>\n",
       "</div>"
      ],
      "text/plain": [
       "                       id  billed_rate_tlnx  billed_rate_vendor  \\\n",
       "1576840  97a6b6dcefb0dfac           0.00375             0.00375   \n",
       "\n",
       "         is_inter_state  \n",
       "1576840            True  "
      ]
     },
     "execution_count": 222,
     "metadata": {},
     "output_type": "execute_result"
    }
   ],
   "source": [
    "rate_err_df = df_tlnx.merge(df_vendor, on='id', how='inner')[['id', 'billed_rate_x', 'billed_rate_y', 'is_inter_state']]\n",
    "rate_err_df.columns =  ['id', 'billed_rate_tlnx', 'billed_rate_vendor', 'is_inter_state']\n",
    "\n",
    "rate_err_df['billed_rate_tlnx'] = rate_err_df.apply(lambda x: normal_round(x.billed_rate_tlnx,5), axis=1)\n",
    "rate_err_df['billed_rate_vendor'] = rate_err_df.apply(lambda x: normal_round(x.billed_rate_vendor,5), axis=1)\n",
    "rate_err_df['is_correct'] =  rate_err_df.billed_rate_vendor == rate_err_df.billed_rate_tlnx\n",
    "rate_err_df.sample(1)"
   ]
  },
  {
   "cell_type": "code",
   "execution_count": 229,
   "metadata": {},
   "outputs": [
    {
     "name": "stdout",
     "output_type": "stream",
     "text": [
      " Out of 9755045 CRDs 1176032 has wrong deck errors in CRDs \n",
      " Percentage wrong rate deck errors in CRDs 12.06%\n"
     ]
    }
   ],
   "source": [
    "print (\" Out of {} CRDs {} has wrong deck errors in CRDs \".format(len(rate_err_df), rate_err_df.is_correct.value_counts()[1]))\n",
    "print (\" Percentage wrong rate deck errors in CRDs {}\".format(str(round(rate_err_df.is_correct.value_counts()[1] / len(rate_err_df)  * 100 , 2)) + '%'))"
   ]
  },
  {
   "cell_type": "code",
   "execution_count": 236,
   "metadata": {},
   "outputs": [
    {
     "name": "stdout",
     "output_type": "stream",
     "text": [
      "Intra State Wrong Deck Error Count 352460 \n",
      "Percentage 29.97% of All errors\n",
      "Inter State Wrong Deck Error Count 823572 \n",
      "Percentage 70.03% of All errors\n"
     ]
    }
   ],
   "source": [
    "print(\"Intra State Wrong Deck Error Count {} \\nPercentage {} of All errors\".format(\n",
    "    rate_err_df[rate_err_df.is_correct == False].is_inter_state.value_counts()[1],\n",
    "    str(round(rate_err_df[rate_err_df.is_correct == False].is_inter_state.value_counts()[1] / len(rate_err_df[rate_err_df.is_correct == False]) * 100,2)) + \"%\"\n",
    "))\n",
    "\n",
    "print(\"Inter State Wrong Deck Error Count {} \\nPercentage {} of All errors\".format(\n",
    "    rate_err_df[rate_err_df.is_correct == False].is_inter_state.value_counts()[0],\n",
    "    str(round(rate_err_df[rate_err_df.is_correct == False].is_inter_state.value_counts()[0] / len(rate_err_df[rate_err_df.is_correct == False]) * 100,2)) + \"%\"\n",
    "))\n",
    "\n",
    "#rate_err_df[rate_err_df.is_correct == False].is_inter_state.value_counts()[1]"
   ]
  },
  {
   "attachments": {},
   "cell_type": "markdown",
   "metadata": {},
   "source": [
    "!! Most of the wrong deck errors occured for inter state calls"
   ]
  },
  {
   "attachments": {},
   "cell_type": "markdown",
   "metadata": {},
   "source": [
    "###  Checking root-cause of errors"
   ]
  },
  {
   "cell_type": "code",
   "execution_count": 239,
   "metadata": {},
   "outputs": [],
   "source": [
    "wrong_rate_deck_df =  rate_err_df[rate_err_df.is_correct == False]\n",
    "wrong_round_df = round_err_df.copy()\n",
    "wrong_duration_df = error_bills.copy()\n",
    "wrong_lrn_df = df_lrn[df_lrn['is_correct'] == False]"
   ]
  },
  {
   "cell_type": "code",
   "execution_count": 250,
   "metadata": {},
   "outputs": [],
   "source": [
    "df_tlnx_v2 = df_tlnx.copy()\n",
    "df_tlnx_v2.columns = ['tlnx_caller', 'tlnx_callee', 'tlnx_callee_LRN', 'tlnx_timestamp', 'tlnx_billedduration',\n",
    "       'tlnx_billed_rate', 'tlnx_billed_cost', 'id']\n",
    "\n",
    "\n",
    "df_vendor_v2 = df_vendor.copy()\n",
    "df_vendor_v2.columns  = ['vendor_caller', 'vendor_callee', 'vendor_timestamp', 'vendor_callee_LRN', 'vendor_billedduration',\n",
    "       'vendor_billed_rate', 'vendor_billed_cost', 'vendor_callee_arc', 'vendor_caller_arc', 'id',\n",
    "       'vendor_calle_area', 'vendor_caller_area', 'vendor_is_inter_state']"
   ]
  },
  {
   "cell_type": "code",
   "execution_count": 251,
   "metadata": {},
   "outputs": [],
   "source": [
    "df_all = df_tlnx_v2.merge(df_vendor_v2, how='inner', on='id')"
   ]
  },
  {
   "cell_type": "code",
   "execution_count": 252,
   "metadata": {},
   "outputs": [
    {
     "data": {
      "text/html": [
       "<div>\n",
       "<style scoped>\n",
       "    .dataframe tbody tr th:only-of-type {\n",
       "        vertical-align: middle;\n",
       "    }\n",
       "\n",
       "    .dataframe tbody tr th {\n",
       "        vertical-align: top;\n",
       "    }\n",
       "\n",
       "    .dataframe thead th {\n",
       "        text-align: right;\n",
       "    }\n",
       "</style>\n",
       "<table border=\"1\" class=\"dataframe\">\n",
       "  <thead>\n",
       "    <tr style=\"text-align: right;\">\n",
       "      <th></th>\n",
       "      <th>tlnx_caller</th>\n",
       "      <th>tlnx_callee</th>\n",
       "      <th>tlnx_callee_LRN</th>\n",
       "      <th>tlnx_timestamp</th>\n",
       "      <th>tlnx_billedduration</th>\n",
       "      <th>tlnx_billed_rate</th>\n",
       "      <th>tlnx_billed_cost</th>\n",
       "      <th>id</th>\n",
       "      <th>vendor_caller</th>\n",
       "      <th>vendor_callee</th>\n",
       "      <th>vendor_timestamp</th>\n",
       "      <th>vendor_callee_LRN</th>\n",
       "      <th>vendor_billedduration</th>\n",
       "      <th>vendor_billed_rate</th>\n",
       "      <th>vendor_billed_cost</th>\n",
       "      <th>vendor_callee_arc</th>\n",
       "      <th>vendor_caller_arc</th>\n",
       "      <th>vendor_calle_area</th>\n",
       "      <th>vendor_caller_area</th>\n",
       "      <th>vendor_is_inter_state</th>\n",
       "    </tr>\n",
       "  </thead>\n",
       "  <tbody>\n",
       "    <tr>\n",
       "      <th>0</th>\n",
       "      <td>9785108014</td>\n",
       "      <td>9543063291</td>\n",
       "      <td>954990</td>\n",
       "      <td>2017-09-11 14:30:02</td>\n",
       "      <td>6</td>\n",
       "      <td>0.00266</td>\n",
       "      <td>0.0003</td>\n",
       "      <td>a97e140f6a66b694</td>\n",
       "      <td>9785108014</td>\n",
       "      <td>9543063291</td>\n",
       "      <td>2017-09-11 14:30:03</td>\n",
       "      <td>954306</td>\n",
       "      <td>6</td>\n",
       "      <td>0.00266</td>\n",
       "      <td>0.0003</td>\n",
       "      <td>954990</td>\n",
       "      <td>978510</td>\n",
       "      <td>FL</td>\n",
       "      <td>MA</td>\n",
       "      <td>True</td>\n",
       "    </tr>\n",
       "  </tbody>\n",
       "</table>\n",
       "</div>"
      ],
      "text/plain": [
       "  tlnx_caller tlnx_callee tlnx_callee_LRN      tlnx_timestamp  \\\n",
       "0  9785108014  9543063291          954990 2017-09-11 14:30:02   \n",
       "\n",
       "   tlnx_billedduration  tlnx_billed_rate  tlnx_billed_cost                id  \\\n",
       "0                    6           0.00266            0.0003  a97e140f6a66b694   \n",
       "\n",
       "  vendor_caller vendor_callee    vendor_timestamp vendor_callee_LRN  \\\n",
       "0    9785108014    9543063291 2017-09-11 14:30:03            954306   \n",
       "\n",
       "   vendor_billedduration  vendor_billed_rate  vendor_billed_cost  \\\n",
       "0                      6             0.00266              0.0003   \n",
       "\n",
       "  vendor_callee_arc vendor_caller_arc vendor_calle_area vendor_caller_area  \\\n",
       "0            954990            978510                FL                 MA   \n",
       "\n",
       "   vendor_is_inter_state  \n",
       "0                   True  "
      ]
     },
     "execution_count": 252,
     "metadata": {},
     "output_type": "execute_result"
    }
   ],
   "source": [
    "df_all.head(1)"
   ]
  },
  {
   "cell_type": "code",
   "execution_count": 253,
   "metadata": {},
   "outputs": [],
   "source": [
    "df_all_v2 = df_all.copy()\n",
    "\n",
    "\"\"\"df_all_v2['is_LRN_error'] = df_all_v2.apply(lambda x: x.tlnx_callee_LRN != x.vendor_callee_LRN, axis=1).astype(int)\n",
    "df_all_v2['is_duration_error'] = df_all_v2.apply(lambda x: x.tlnx_billedduration != x.vendor_billedduration, axis=1).astype(int)\n",
    "\"\"\"\n",
    "\n",
    "df_all_v2['is_LRN_error'] = df_all_v2.tlnx_callee_LRN != df_all_v2.vendor_callee_LRN\n",
    "df_all_v2['is_duration_error'] = df_all_v2.tlnx_billedduration != df_all_v2.vendor_billedduration\n",
    "\n",
    "#rounding upto 5 decimal place for bill rate\n",
    "df_all_v2['tlnx_billed_rate'] = df_all_v2.apply(lambda x: normal_round(x.tlnx_billed_rate,5), axis=1)\n",
    "df_all_v2['vendor_billed_rate'] = df_all_v2.apply(lambda x: normal_round(x.vendor_billed_rate,5), axis=1)\n",
    "df_all_v2['is_wrong_rate_deck_error'] = df_all_v2.tlnx_billed_rate != df_all_v2.vendor_billed_rate\n",
    "\n",
    "#rounding upto 4 decimal place for bill rate\n",
    "df_all_v2['vendor_billed_cost'] = df_all_v2.apply(lambda x: normal_round(x.vendor_billed_cost,5), axis=1)\n",
    "df_all_v2['tlnx_billed_cost'] = df_all_v2.apply(lambda x: normal_round(x.tlnx_billed_cost,5), axis=1)\n",
    "df_all_v2['is_rounding_error'] =  df_all_v2.vendor_billed_cost != df_all_v2.tlnx_billed_cost"
   ]
  },
  {
   "cell_type": "code",
   "execution_count": 254,
   "metadata": {},
   "outputs": [
    {
     "data": {
      "text/html": [
       "<div>\n",
       "<style scoped>\n",
       "    .dataframe tbody tr th:only-of-type {\n",
       "        vertical-align: middle;\n",
       "    }\n",
       "\n",
       "    .dataframe tbody tr th {\n",
       "        vertical-align: top;\n",
       "    }\n",
       "\n",
       "    .dataframe thead th {\n",
       "        text-align: right;\n",
       "    }\n",
       "</style>\n",
       "<table border=\"1\" class=\"dataframe\">\n",
       "  <thead>\n",
       "    <tr style=\"text-align: right;\">\n",
       "      <th></th>\n",
       "      <th>tlnx_caller</th>\n",
       "      <th>tlnx_callee</th>\n",
       "      <th>tlnx_callee_LRN</th>\n",
       "      <th>tlnx_timestamp</th>\n",
       "      <th>tlnx_billedduration</th>\n",
       "      <th>tlnx_billed_rate</th>\n",
       "      <th>tlnx_billed_cost</th>\n",
       "      <th>id</th>\n",
       "      <th>vendor_caller</th>\n",
       "      <th>vendor_callee</th>\n",
       "      <th>...</th>\n",
       "      <th>vendor_billed_cost</th>\n",
       "      <th>vendor_callee_arc</th>\n",
       "      <th>vendor_caller_arc</th>\n",
       "      <th>vendor_calle_area</th>\n",
       "      <th>vendor_caller_area</th>\n",
       "      <th>vendor_is_inter_state</th>\n",
       "      <th>is_LRN_error</th>\n",
       "      <th>is_duration_error</th>\n",
       "      <th>is_wrong_rate_deck_error</th>\n",
       "      <th>is_rounding_error</th>\n",
       "    </tr>\n",
       "  </thead>\n",
       "  <tbody>\n",
       "    <tr>\n",
       "      <th>0</th>\n",
       "      <td>9785108014</td>\n",
       "      <td>9543063291</td>\n",
       "      <td>954990</td>\n",
       "      <td>2017-09-11 14:30:02</td>\n",
       "      <td>6</td>\n",
       "      <td>0.00266</td>\n",
       "      <td>0.0003</td>\n",
       "      <td>a97e140f6a66b694</td>\n",
       "      <td>9785108014</td>\n",
       "      <td>9543063291</td>\n",
       "      <td>...</td>\n",
       "      <td>0.0003</td>\n",
       "      <td>954990</td>\n",
       "      <td>978510</td>\n",
       "      <td>FL</td>\n",
       "      <td>MA</td>\n",
       "      <td>True</td>\n",
       "      <td>True</td>\n",
       "      <td>False</td>\n",
       "      <td>False</td>\n",
       "      <td>False</td>\n",
       "    </tr>\n",
       "  </tbody>\n",
       "</table>\n",
       "<p>1 rows × 24 columns</p>\n",
       "</div>"
      ],
      "text/plain": [
       "  tlnx_caller tlnx_callee tlnx_callee_LRN      tlnx_timestamp  \\\n",
       "0  9785108014  9543063291          954990 2017-09-11 14:30:02   \n",
       "\n",
       "   tlnx_billedduration  tlnx_billed_rate  tlnx_billed_cost                id  \\\n",
       "0                    6           0.00266            0.0003  a97e140f6a66b694   \n",
       "\n",
       "  vendor_caller vendor_callee  ... vendor_billed_cost vendor_callee_arc  \\\n",
       "0    9785108014    9543063291  ...             0.0003            954990   \n",
       "\n",
       "   vendor_caller_arc  vendor_calle_area  vendor_caller_area  \\\n",
       "0             978510                 FL                  MA   \n",
       "\n",
       "  vendor_is_inter_state is_LRN_error is_duration_error  \\\n",
       "0                  True         True             False   \n",
       "\n",
       "  is_wrong_rate_deck_error  is_rounding_error  \n",
       "0                    False              False  \n",
       "\n",
       "[1 rows x 24 columns]"
      ]
     },
     "execution_count": 254,
     "metadata": {},
     "output_type": "execute_result"
    }
   ],
   "source": [
    "df_all_v2.head(1)"
   ]
  },
  {
   "cell_type": "code",
   "execution_count": 260,
   "metadata": {},
   "outputs": [
    {
     "data": {
      "text/html": [
       "<div>\n",
       "<style scoped>\n",
       "    .dataframe tbody tr th:only-of-type {\n",
       "        vertical-align: middle;\n",
       "    }\n",
       "\n",
       "    .dataframe tbody tr th {\n",
       "        vertical-align: top;\n",
       "    }\n",
       "\n",
       "    .dataframe thead th {\n",
       "        text-align: right;\n",
       "    }\n",
       "</style>\n",
       "<table border=\"1\" class=\"dataframe\">\n",
       "  <thead>\n",
       "    <tr style=\"text-align: right;\">\n",
       "      <th></th>\n",
       "      <th>tlnx_caller</th>\n",
       "      <th>tlnx_callee</th>\n",
       "      <th>tlnx_callee_LRN</th>\n",
       "      <th>tlnx_timestamp</th>\n",
       "      <th>tlnx_billedduration</th>\n",
       "      <th>tlnx_billed_rate</th>\n",
       "      <th>tlnx_billed_cost</th>\n",
       "      <th>id</th>\n",
       "      <th>vendor_caller</th>\n",
       "      <th>vendor_callee</th>\n",
       "      <th>...</th>\n",
       "      <th>vendor_billed_cost</th>\n",
       "      <th>vendor_callee_arc</th>\n",
       "      <th>vendor_caller_arc</th>\n",
       "      <th>vendor_calle_area</th>\n",
       "      <th>vendor_caller_area</th>\n",
       "      <th>vendor_is_inter_state</th>\n",
       "      <th>is_LRN_error</th>\n",
       "      <th>is_duration_error</th>\n",
       "      <th>is_wrong_rate_deck_error</th>\n",
       "      <th>is_rounding_error</th>\n",
       "    </tr>\n",
       "  </thead>\n",
       "  <tbody>\n",
       "    <tr>\n",
       "      <th>0</th>\n",
       "      <td>9785108014</td>\n",
       "      <td>9543063291</td>\n",
       "      <td>954990</td>\n",
       "      <td>2017-09-11 14:30:02</td>\n",
       "      <td>6</td>\n",
       "      <td>0.00266</td>\n",
       "      <td>0.0003</td>\n",
       "      <td>a97e140f6a66b694</td>\n",
       "      <td>9785108014</td>\n",
       "      <td>9543063291</td>\n",
       "      <td>...</td>\n",
       "      <td>0.0003</td>\n",
       "      <td>954990</td>\n",
       "      <td>978510</td>\n",
       "      <td>FL</td>\n",
       "      <td>MA</td>\n",
       "      <td>True</td>\n",
       "      <td>LRN Error</td>\n",
       "      <td>Correct</td>\n",
       "      <td>Correct</td>\n",
       "      <td>Correct</td>\n",
       "    </tr>\n",
       "  </tbody>\n",
       "</table>\n",
       "<p>1 rows × 24 columns</p>\n",
       "</div>"
      ],
      "text/plain": [
       "  tlnx_caller tlnx_callee tlnx_callee_LRN      tlnx_timestamp  \\\n",
       "0  9785108014  9543063291          954990 2017-09-11 14:30:02   \n",
       "\n",
       "   tlnx_billedduration  tlnx_billed_rate  tlnx_billed_cost                id  \\\n",
       "0                    6           0.00266            0.0003  a97e140f6a66b694   \n",
       "\n",
       "  vendor_caller vendor_callee  ... vendor_billed_cost vendor_callee_arc  \\\n",
       "0    9785108014    9543063291  ...             0.0003            954990   \n",
       "\n",
       "   vendor_caller_arc  vendor_calle_area  vendor_caller_area  \\\n",
       "0             978510                 FL                  MA   \n",
       "\n",
       "  vendor_is_inter_state is_LRN_error is_duration_error  \\\n",
       "0                  True    LRN Error           Correct   \n",
       "\n",
       "  is_wrong_rate_deck_error  is_rounding_error  \n",
       "0                  Correct            Correct  \n",
       "\n",
       "[1 rows x 24 columns]"
      ]
     },
     "execution_count": 260,
     "metadata": {},
     "output_type": "execute_result"
    }
   ],
   "source": [
    "df_all_v2[['is_LRN_error', 'is_duration_error', 'is_wrong_rate_deck_error','is_rounding_error']] = df_all_v2[['is_LRN_error', 'is_duration_error', 'is_wrong_rate_deck_error','is_rounding_error']].astype(int)\n",
    "\n",
    "df_all_v2['is_LRN_error'] = np.where(df_all_v2['is_LRN_error'], 'LRN Error', 'Correct')\n",
    "df_all_v2['is_duration_error'] = np.where(df_all_v2['is_duration_error'], 'Duration Error', 'Correct')\n",
    "df_all_v2['is_wrong_rate_deck_error'] = np.where(df_all_v2['is_wrong_rate_deck_error'], 'Wrong Rate Error', 'Correct')\n",
    "df_all_v2['is_rounding_error'] = np.where(df_all_v2['is_rounding_error'], 'Rounding Error', 'Correct')\n",
    "\n",
    "df_all_v2.head(1)\n"
   ]
  },
  {
   "cell_type": "code",
   "execution_count": 276,
   "metadata": {},
   "outputs": [],
   "source": [
    "df_all_v2['error'] = df_all_v2[['is_LRN_error', 'is_duration_error', 'is_wrong_rate_deck_error','is_rounding_error']].apply(lambda x: x.tolist(), axis=1).apply(lambda x: [i for i in x if i != 'Correct'])"
   ]
  },
  {
   "cell_type": "code",
   "execution_count": 286,
   "metadata": {},
   "outputs": [
    {
     "data": {
      "text/html": [
       "<div>\n",
       "<style scoped>\n",
       "    .dataframe tbody tr th:only-of-type {\n",
       "        vertical-align: middle;\n",
       "    }\n",
       "\n",
       "    .dataframe tbody tr th {\n",
       "        vertical-align: top;\n",
       "    }\n",
       "\n",
       "    .dataframe thead th {\n",
       "        text-align: right;\n",
       "    }\n",
       "</style>\n",
       "<table border=\"1\" class=\"dataframe\">\n",
       "  <thead>\n",
       "    <tr style=\"text-align: right;\">\n",
       "      <th></th>\n",
       "      <th>error_combination</th>\n",
       "      <th>count_ids</th>\n",
       "    </tr>\n",
       "  </thead>\n",
       "  <tbody>\n",
       "    <tr>\n",
       "      <th>0</th>\n",
       "      <td>(LRN Error,)</td>\n",
       "      <td>2321481</td>\n",
       "    </tr>\n",
       "    <tr>\n",
       "      <th>1</th>\n",
       "      <td>(LRN Error, Rounding Error)</td>\n",
       "      <td>2282140</td>\n",
       "    </tr>\n",
       "    <tr>\n",
       "      <th>2</th>\n",
       "      <td>()</td>\n",
       "      <td>2036755</td>\n",
       "    </tr>\n",
       "    <tr>\n",
       "      <th>3</th>\n",
       "      <td>(Rounding Error,)</td>\n",
       "      <td>1714492</td>\n",
       "    </tr>\n",
       "    <tr>\n",
       "      <th>4</th>\n",
       "      <td>(LRN Error, Wrong Rate Error, Rounding Error)</td>\n",
       "      <td>516053</td>\n",
       "    </tr>\n",
       "    <tr>\n",
       "      <th>5</th>\n",
       "      <td>(Wrong Rate Error, Rounding Error)</td>\n",
       "      <td>298247</td>\n",
       "    </tr>\n",
       "    <tr>\n",
       "      <th>6</th>\n",
       "      <td>(LRN Error, Wrong Rate Error)</td>\n",
       "      <td>191695</td>\n",
       "    </tr>\n",
       "    <tr>\n",
       "      <th>7</th>\n",
       "      <td>(LRN Error, Duration Error, Rounding Error)</td>\n",
       "      <td>142244</td>\n",
       "    </tr>\n",
       "    <tr>\n",
       "      <th>8</th>\n",
       "      <td>(Wrong Rate Error,)</td>\n",
       "      <td>138149</td>\n",
       "    </tr>\n",
       "    <tr>\n",
       "      <th>9</th>\n",
       "      <td>(Duration Error, Rounding Error)</td>\n",
       "      <td>81900</td>\n",
       "    </tr>\n",
       "    <tr>\n",
       "      <th>10</th>\n",
       "      <td>(LRN Error, Duration Error, Wrong Rate Error, ...</td>\n",
       "      <td>19507</td>\n",
       "    </tr>\n",
       "    <tr>\n",
       "      <th>11</th>\n",
       "      <td>(Duration Error, Wrong Rate Error, Rounding Er...</td>\n",
       "      <td>11237</td>\n",
       "    </tr>\n",
       "    <tr>\n",
       "      <th>12</th>\n",
       "      <td>(LRN Error, Duration Error, Wrong Rate Error)</td>\n",
       "      <td>583</td>\n",
       "    </tr>\n",
       "    <tr>\n",
       "      <th>13</th>\n",
       "      <td>(Duration Error, Wrong Rate Error)</td>\n",
       "      <td>561</td>\n",
       "    </tr>\n",
       "    <tr>\n",
       "      <th>14</th>\n",
       "      <td>(Duration Error,)</td>\n",
       "      <td>1</td>\n",
       "    </tr>\n",
       "  </tbody>\n",
       "</table>\n",
       "</div>"
      ],
      "text/plain": [
       "                                    error_combination  count_ids\n",
       "0                                        (LRN Error,)    2321481\n",
       "1                         (LRN Error, Rounding Error)    2282140\n",
       "2                                                  ()    2036755\n",
       "3                                   (Rounding Error,)    1714492\n",
       "4       (LRN Error, Wrong Rate Error, Rounding Error)     516053\n",
       "5                  (Wrong Rate Error, Rounding Error)     298247\n",
       "6                       (LRN Error, Wrong Rate Error)     191695\n",
       "7         (LRN Error, Duration Error, Rounding Error)     142244\n",
       "8                                 (Wrong Rate Error,)     138149\n",
       "9                    (Duration Error, Rounding Error)      81900\n",
       "10  (LRN Error, Duration Error, Wrong Rate Error, ...      19507\n",
       "11  (Duration Error, Wrong Rate Error, Rounding Er...      11237\n",
       "12      (LRN Error, Duration Error, Wrong Rate Error)        583\n",
       "13                 (Duration Error, Wrong Rate Error)        561\n",
       "14                                  (Duration Error,)          1"
      ]
     },
     "execution_count": 286,
     "metadata": {},
     "output_type": "execute_result"
    }
   ],
   "source": [
    "\n",
    "plot_df = pd.DataFrame(df_all_v2.error.value_counts()).reset_index()\n",
    "\n",
    "plot_df.columns = ['error_combination', 'count_ids']\n",
    "plot_df['error_combination'] = plot_df['error_combination'].apply(tuple)\n",
    "\n",
    "plot_df\n"
   ]
  },
  {
   "cell_type": "code",
   "execution_count": 287,
   "metadata": {},
   "outputs": [],
   "source": [
    "plot_df.to_csv(\"error_combination.csv\", index=False)"
   ]
  },
  {
   "cell_type": "code",
   "execution_count": 288,
   "metadata": {},
   "outputs": [
    {
     "data": {
      "text/plain": [
       "Rounding Error    5065820\n",
       "Correct           4689225\n",
       "Name: is_rounding_error, dtype: int64"
      ]
     },
     "execution_count": 288,
     "metadata": {},
     "output_type": "execute_result"
    }
   ],
   "source": [
    "df_all_v2.is_rounding_error.value_counts()"
   ]
  },
  {
   "cell_type": "code",
   "execution_count": 289,
   "metadata": {},
   "outputs": [
    {
     "data": {
      "text/plain": [
       "LRN Error    5473703\n",
       "Correct      4281342\n",
       "Name: is_LRN_error, dtype: int64"
      ]
     },
     "execution_count": 289,
     "metadata": {},
     "output_type": "execute_result"
    }
   ],
   "source": [
    "df_all_v2.is_LRN_error.value_counts()"
   ]
  },
  {
   "cell_type": "code",
   "execution_count": 290,
   "metadata": {},
   "outputs": [
    {
     "data": {
      "text/plain": [
       "Correct             8579013\n",
       "Wrong Rate Error    1176032\n",
       "Name: is_wrong_rate_deck_error, dtype: int64"
      ]
     },
     "execution_count": 290,
     "metadata": {},
     "output_type": "execute_result"
    }
   ],
   "source": [
    "df_all_v2.is_wrong_rate_deck_error.value_counts()"
   ]
  },
  {
   "cell_type": "code",
   "execution_count": 291,
   "metadata": {},
   "outputs": [
    {
     "data": {
      "text/plain": [
       "Correct           9499012\n",
       "Duration Error     256033\n",
       "Name: is_duration_error, dtype: int64"
      ]
     },
     "execution_count": 291,
     "metadata": {},
     "output_type": "execute_result"
    }
   ],
   "source": [
    "df_all_v2.is_duration_error.value_counts()"
   ]
  },
  {
   "cell_type": "code",
   "execution_count": 304,
   "metadata": {},
   "outputs": [],
   "source": []
  },
  {
   "attachments": {},
   "cell_type": "markdown",
   "metadata": {},
   "source": [
    "LRN Error Count > Rounding Error Count > Wrong Deck Rate Error > Duration Error"
   ]
  }
 ],
 "metadata": {
  "kernelspec": {
   "display_name": "base",
   "language": "python",
   "name": "python3"
  },
  "language_info": {
   "codemirror_mode": {
    "name": "ipython",
    "version": 3
   },
   "file_extension": ".py",
   "mimetype": "text/x-python",
   "name": "python",
   "nbconvert_exporter": "python",
   "pygments_lexer": "ipython3",
   "version": "3.10.9"
  },
  "orig_nbformat": 4
 },
 "nbformat": 4,
 "nbformat_minor": 2
}
